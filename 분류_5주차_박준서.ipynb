{
 "cells": [
  {
   "cell_type": "markdown",
   "id": "9f9c780d",
   "metadata": {},
   "source": [
    "## 1. Import library & Data ##"
   ]
  },
  {
   "cell_type": "code",
   "execution_count": 1,
   "id": "171d8f72",
   "metadata": {},
   "outputs": [],
   "source": [
    "import math  # 수학 함수 패키지\n",
    "import itertools  # Functions creating iterators for efficient looping\n",
    "import time\n",
    "\n",
    "# 데이터 핸들링을 위한 패키지\n",
    "import numpy as np\n",
    "import pandas as pd\n",
    "\n",
    "# statsmodels 패키지\n",
    "import statsmodels.api as sm\n",
    "from statsmodels.api import *\n",
    "from statsmodels.formula.api import *\n",
    "from statsmodels.stats.api import *\n",
    "from statsmodels.stats.proportion import *\n",
    "from statsmodels.stats.diagnostic import *\n",
    "from statsmodels.stats.weightstats import *\n",
    "from statsmodels.stats.outliers_influence import *  # 다중공선성 확인 관련 패키지\n",
    "from statsmodels.multivariate.pca import PCA as pca  # 대문자로 사용할 경우 sklearn 의 PCA와 겹침\n",
    "\n",
    "# SciPy 패키지\n",
    "import scipy as sp\n",
    "import scipy.stats as stats  # 통계 분석을 위한 패키지\n",
    "from scipy.cluster.hierarchy import *  # 계층적 군집 분석을 위한 패키지\n",
    "\n",
    "# scikit-learn 패키지\n",
    "from sklearn.preprocessing import *  # 데이터 전처리를 위한 패키지\n",
    "from sklearn.feature_selection import *  # 알고리즘에 큰 영향을 미치는 feature를 우선순위대로 선택하는 기능 제공\n",
    "from sklearn.model_selection import *  # 데이터 분리, 검증 및 파라미터 튜닝을 위한 패키지\n",
    "from sklearn.metrics import *  # 모델에 대한 다양한 성능 평가를 위한 패키지\n",
    "from sklearn.linear_model import *    # 선형 회귀 분석을 위한 패키지 (로지스틱 회귀 포함)\n",
    "from sklearn.cluster import *  # 비지도 군집화 알고리즘 제공\n",
    "from sklearn.tree import *  # 의사결정나무 알고리즘 제공\n",
    "from sklearn.ensemble import *  # 앙상블 알고리즘 제공\n",
    "from sklearn.neighbors import *  # kNN 알고리즘 제공\n",
    "from sklearn.svm import *  # 서포트 벡터 머신 알고리즘 제공\n",
    "from sklearn.mixture import *  # 혼합분포군집(GMM 등) 알고리즘 제공\n",
    "from sklearn.decomposition import *  # 차원축소 알고리즘 제공\n",
    "from sklearn.multiclass import OneVsRestClassifier  # multiclass 분류기 알고리즘 제공\n",
    "\n",
    "# label별 데이터 카운트를 위한 모듈\n",
    "from collections import Counter  # https://docs.python.org/3/library/collections.html\n",
    "\n",
    "# 시각화를 위한 패키지\n",
    "import seaborn as sb\n",
    "import matplotlib.pyplot as plt\n",
    "import matplotlib.cm as cm  # 내장 colormap, colormap 처리 유틸리티\n",
    "from matplotlib.colors import ListedColormap  # colors and colormaps\n",
    "%matplotlib inline"
   ]
  },
  {
   "cell_type": "code",
   "execution_count": 2,
   "id": "40958476",
   "metadata": {},
   "outputs": [],
   "source": [
    "dr = pd.read_csv('heart.csv')\n",
    "df = dr"
   ]
  },
  {
   "cell_type": "markdown",
   "id": "24e1ff6b",
   "metadata": {},
   "source": [
    "## 2. EDA ##"
   ]
  },
  {
   "cell_type": "code",
   "execution_count": 3,
   "id": "17bbe382",
   "metadata": {},
   "outputs": [
    {
     "name": "stdout",
     "output_type": "stream",
     "text": [
      "<class 'pandas.core.frame.DataFrame'>\n",
      "RangeIndex: 918 entries, 0 to 917\n",
      "Data columns (total 12 columns):\n",
      " #   Column          Non-Null Count  Dtype  \n",
      "---  ------          --------------  -----  \n",
      " 0   Age             918 non-null    int64  \n",
      " 1   Sex             918 non-null    object \n",
      " 2   ChestPainType   918 non-null    object \n",
      " 3   RestingBP       918 non-null    int64  \n",
      " 4   Cholesterol     918 non-null    int64  \n",
      " 5   FastingBS       918 non-null    int64  \n",
      " 6   RestingECG      918 non-null    object \n",
      " 7   MaxHR           918 non-null    int64  \n",
      " 8   ExerciseAngina  918 non-null    object \n",
      " 9   Oldpeak         918 non-null    float64\n",
      " 10  ST_Slope        918 non-null    object \n",
      " 11  HeartDisease    918 non-null    int64  \n",
      "dtypes: float64(1), int64(6), object(5)\n",
      "memory usage: 86.2+ KB\n"
     ]
    }
   ],
   "source": [
    "df.info()"
   ]
  },
  {
   "cell_type": "code",
   "execution_count": 4,
   "id": "9174708b",
   "metadata": {},
   "outputs": [
    {
     "name": "stdout",
     "output_type": "stream",
     "text": [
      "---- Sex ---\n",
      "M    725\n",
      "F    193\n",
      "Name: Sex, dtype: int64\n",
      "---- ChestPainType ---\n",
      "ASY    496\n",
      "NAP    203\n",
      "ATA    173\n",
      "TA      46\n",
      "Name: ChestPainType, dtype: int64\n",
      "---- RestingECG ---\n",
      "Normal    552\n",
      "LVH       188\n",
      "ST        178\n",
      "Name: RestingECG, dtype: int64\n",
      "---- ExerciseAngina ---\n",
      "N    547\n",
      "Y    371\n",
      "Name: ExerciseAngina, dtype: int64\n",
      "---- ST_Slope ---\n",
      "Flat    460\n",
      "Up      395\n",
      "Down     63\n",
      "Name: ST_Slope, dtype: int64\n"
     ]
    }
   ],
   "source": [
    "# Object 형태의 Data 분포 확인 #\n",
    "df1 = df.select_dtypes(include='object')\n",
    "for c in df1.columns:\n",
    "    print (\"---- %s ---\" % c)\n",
    "    print (df1[c].value_counts())"
   ]
  },
  {
   "cell_type": "code",
   "execution_count": 5,
   "id": "ccdc2696",
   "metadata": {},
   "outputs": [
    {
     "data": {
      "text/html": [
       "<div>\n",
       "<style scoped>\n",
       "    .dataframe tbody tr th:only-of-type {\n",
       "        vertical-align: middle;\n",
       "    }\n",
       "\n",
       "    .dataframe tbody tr th {\n",
       "        vertical-align: top;\n",
       "    }\n",
       "\n",
       "    .dataframe thead th {\n",
       "        text-align: right;\n",
       "    }\n",
       "</style>\n",
       "<table border=\"1\" class=\"dataframe\">\n",
       "  <thead>\n",
       "    <tr style=\"text-align: right;\">\n",
       "      <th></th>\n",
       "      <th>count</th>\n",
       "      <th>mean</th>\n",
       "      <th>std</th>\n",
       "      <th>min</th>\n",
       "      <th>25%</th>\n",
       "      <th>50%</th>\n",
       "      <th>75%</th>\n",
       "      <th>max</th>\n",
       "    </tr>\n",
       "  </thead>\n",
       "  <tbody>\n",
       "    <tr>\n",
       "      <th>Age</th>\n",
       "      <td>918.0</td>\n",
       "      <td>53.510893</td>\n",
       "      <td>9.432617</td>\n",
       "      <td>28.0</td>\n",
       "      <td>47.00</td>\n",
       "      <td>54.0</td>\n",
       "      <td>60.0</td>\n",
       "      <td>77.0</td>\n",
       "    </tr>\n",
       "    <tr>\n",
       "      <th>RestingBP</th>\n",
       "      <td>918.0</td>\n",
       "      <td>132.396514</td>\n",
       "      <td>18.514154</td>\n",
       "      <td>0.0</td>\n",
       "      <td>120.00</td>\n",
       "      <td>130.0</td>\n",
       "      <td>140.0</td>\n",
       "      <td>200.0</td>\n",
       "    </tr>\n",
       "    <tr>\n",
       "      <th>Cholesterol</th>\n",
       "      <td>918.0</td>\n",
       "      <td>198.799564</td>\n",
       "      <td>109.384145</td>\n",
       "      <td>0.0</td>\n",
       "      <td>173.25</td>\n",
       "      <td>223.0</td>\n",
       "      <td>267.0</td>\n",
       "      <td>603.0</td>\n",
       "    </tr>\n",
       "    <tr>\n",
       "      <th>FastingBS</th>\n",
       "      <td>918.0</td>\n",
       "      <td>0.233115</td>\n",
       "      <td>0.423046</td>\n",
       "      <td>0.0</td>\n",
       "      <td>0.00</td>\n",
       "      <td>0.0</td>\n",
       "      <td>0.0</td>\n",
       "      <td>1.0</td>\n",
       "    </tr>\n",
       "    <tr>\n",
       "      <th>MaxHR</th>\n",
       "      <td>918.0</td>\n",
       "      <td>136.809368</td>\n",
       "      <td>25.460334</td>\n",
       "      <td>60.0</td>\n",
       "      <td>120.00</td>\n",
       "      <td>138.0</td>\n",
       "      <td>156.0</td>\n",
       "      <td>202.0</td>\n",
       "    </tr>\n",
       "    <tr>\n",
       "      <th>Oldpeak</th>\n",
       "      <td>918.0</td>\n",
       "      <td>0.887364</td>\n",
       "      <td>1.066570</td>\n",
       "      <td>-2.6</td>\n",
       "      <td>0.00</td>\n",
       "      <td>0.6</td>\n",
       "      <td>1.5</td>\n",
       "      <td>6.2</td>\n",
       "    </tr>\n",
       "    <tr>\n",
       "      <th>HeartDisease</th>\n",
       "      <td>918.0</td>\n",
       "      <td>0.553377</td>\n",
       "      <td>0.497414</td>\n",
       "      <td>0.0</td>\n",
       "      <td>0.00</td>\n",
       "      <td>1.0</td>\n",
       "      <td>1.0</td>\n",
       "      <td>1.0</td>\n",
       "    </tr>\n",
       "  </tbody>\n",
       "</table>\n",
       "</div>"
      ],
      "text/plain": [
       "              count        mean         std   min     25%    50%    75%    max\n",
       "Age           918.0   53.510893    9.432617  28.0   47.00   54.0   60.0   77.0\n",
       "RestingBP     918.0  132.396514   18.514154   0.0  120.00  130.0  140.0  200.0\n",
       "Cholesterol   918.0  198.799564  109.384145   0.0  173.25  223.0  267.0  603.0\n",
       "FastingBS     918.0    0.233115    0.423046   0.0    0.00    0.0    0.0    1.0\n",
       "MaxHR         918.0  136.809368   25.460334  60.0  120.00  138.0  156.0  202.0\n",
       "Oldpeak       918.0    0.887364    1.066570  -2.6    0.00    0.6    1.5    6.2\n",
       "HeartDisease  918.0    0.553377    0.497414   0.0    0.00    1.0    1.0    1.0"
      ]
     },
     "execution_count": 5,
     "metadata": {},
     "output_type": "execute_result"
    }
   ],
   "source": [
    "# 非Object 형태의 Data 분포 확인(1) #\n",
    "df2 = df.select_dtypes(exclude='object')\n",
    "df.describe().T"
   ]
  },
  {
   "cell_type": "code",
   "execution_count": 6,
   "id": "04acd517",
   "metadata": {},
   "outputs": [
    {
     "data": {
      "image/png": "[encoded data removed]",
      "text/plain": [
       "<Figure size 1080x1080 with 9 Axes>"
      ]
     },
     "metadata": {
      "needs_background": "light"
     },
     "output_type": "display_data"
    }
   ],
   "source": [
    "# 非Object 형태의 Data 분포 확인(2) #\n",
    "df.hist(figsize=(15,15))\n",
    "plt.show()"
   ]
  },
  {
   "cell_type": "markdown",
   "id": "77ca55e5",
   "metadata": {},
   "source": [
    " - FastingBS, HeartDisease는 int형태이나 그래프로 본 결과 factor 변수인것이 확인되어 factor화 필요\n",
    " - RestingBP는 극소값 존재, Cholesterol은 왼쪽으로 치우친 경향이 보임 (test 필요)"
   ]
  },
  {
   "cell_type": "code",
   "execution_count": 7,
   "id": "b1bf706d",
   "metadata": {},
   "outputs": [
    {
     "name": "stdout",
     "output_type": "stream",
     "text": [
      "<class 'pandas.core.frame.DataFrame'>\n",
      "RangeIndex: 918 entries, 0 to 917\n",
      "Data columns (total 12 columns):\n",
      " #   Column          Non-Null Count  Dtype  \n",
      "---  ------          --------------  -----  \n",
      " 0   Age             918 non-null    int64  \n",
      " 1   Sex             918 non-null    object \n",
      " 2   ChestPainType   918 non-null    object \n",
      " 3   RestingBP       918 non-null    int64  \n",
      " 4   Cholesterol     918 non-null    int64  \n",
      " 5   FastingBS       918 non-null    object \n",
      " 6   RestingECG      918 non-null    object \n",
      " 7   MaxHR           918 non-null    int64  \n",
      " 8   ExerciseAngina  918 non-null    object \n",
      " 9   Oldpeak         918 non-null    float64\n",
      " 10  ST_Slope        918 non-null    object \n",
      " 11  HeartDisease    918 non-null    object \n",
      "dtypes: float64(1), int64(4), object(7)\n",
      "memory usage: 86.2+ KB\n"
     ]
    }
   ],
   "source": [
    "#FastingBS, HeartDisease Factor 화\n",
    "df[\"FastingBS\"] = df[\"FastingBS\"].astype(object)\n",
    "df[\"HeartDisease\"] = df[\"HeartDisease\"].astype(object)\n",
    "df.info()"
   ]
  },
  {
   "cell_type": "code",
   "execution_count": 8,
   "id": "52674c85",
   "metadata": {},
   "outputs": [
    {
     "name": "stdout",
     "output_type": "stream",
     "text": [
      "shapiro-test p값 RestingBP 1.4945345782886414e-15\n",
      "shapiro-test p값 Cholesterol 6.972669126282614e-27\n",
      "shapiro-test p값 MaxHR 0.00016854831483215094\n",
      "shapiro-test p값 Oldpeak 8.269326883616587e-28\n"
     ]
    }
   ],
   "source": [
    "# 非Object Data 정상성 검토 (Shapiro test) #\n",
    "df3 = df.select_dtypes(exclude='object')\n",
    "for i in range(1, df3.columns.size):\n",
    "    print( 'shapiro-test p값', df3.iloc[:,i].name, stats.shapiro( df3.iloc[:,i] )[1] )"
   ]
  },
  {
   "cell_type": "markdown",
   "id": "aed95051",
   "metadata": {},
   "source": [
    " - 모든 수치형 데이터가 정상성을 따르지 않음"
   ]
  },
  {
   "cell_type": "code",
   "execution_count": 9,
   "id": "fb2e942f",
   "metadata": {},
   "outputs": [
    {
     "data": {
      "text/plain": [
       "690"
      ]
     },
     "execution_count": 9,
     "metadata": {},
     "output_type": "execute_result"
    }
   ],
   "source": [
    "# 모든 수치형 Column에 대해 이상치 제거 #\n",
    "# 모든 Column에서 [Q1 - 1.5IQR ~ Q3 + 1.5IQR] 포함 데이터만 남김 #\n",
    "\n",
    "def IQR_Rule(val_list) :\n",
    "    Q1 = np.quantile(val_list, 0.25)\n",
    "    Q3 = np.quantile(val_list, 0.75)\n",
    "    IQR = Q3 - Q1\n",
    "    \n",
    "    not_outlier_cond = (Q3 + 1.5*IQR > val_list) & (Q1 - 1.5*IQR < val_list)\n",
    "    return not_outlier_cond\n",
    "\n",
    "conditions = df3.apply(IQR_Rule)\n",
    "total_condition = conditions.sum(axis=1) == len(df3.columns)\n",
    "len(df[total_condition])\n",
    "# df = df.loc[total_condition]"
   ]
  },
  {
   "cell_type": "markdown",
   "id": "17d4e798",
   "metadata": {},
   "source": [
    " * 이상치 제거시 228개 데이터(25%,918개->690개) 사라짐\n",
    " * 문제에 따라 제거 여부 판단"
   ]
  },
  {
   "cell_type": "code",
   "execution_count": 10,
   "id": "df87ba95",
   "metadata": {},
   "outputs": [
    {
     "data": {
      "image/png": "[encoded data removed]",
      "text/plain": [
       "<Figure size 864x720 with 2 Axes>"
      ]
     },
     "metadata": {
      "needs_background": "light"
     },
     "output_type": "display_data"
    },
    {
     "name": "stdout",
     "output_type": "stream",
     "text": [
      "\n"
     ]
    }
   ],
   "source": [
    "# 수치형 변수간 Cor 시각화 #\n",
    "df3_corr = df3.corr()\n",
    "# 삼각형 마스크를 만든다(위 쪽 삼각형에 True, 아래 삼각형에 False)\n",
    "mask = np.zeros_like( df3_corr, dtype=np.bool )\n",
    "mask[ np.triu_indices_from( mask ) ] = True\n",
    "# 히트맵 시각화\n",
    "plt.figure(figsize=(12,10),\n",
    "            constrained_layout = True)\n",
    "sb.heatmap( df3_corr,\n",
    "            annot = True,\n",
    "            cmap = 'vlag',  # https://seaborn.pydata.org/tutorial/color_palettes.html\n",
    "            mask = mask,\n",
    "            vmin = -1, vmax = 1, center = 0)\n",
    "plt.show()\n",
    "print()"
   ]
  },
  {
   "cell_type": "markdown",
   "id": "184455c6",
   "metadata": {},
   "source": [
    " - 수치형 데이터 간 강한 Cor은 미발견"
   ]
  },
  {
   "cell_type": "markdown",
   "id": "e034801a",
   "metadata": {},
   "source": [
    "## 3. Data 전처리 ##"
   ]
  },
  {
   "cell_type": "code",
   "execution_count": 11,
   "id": "d0b193a7",
   "metadata": {},
   "outputs": [
    {
     "data": {
      "text/html": [
       "<div>\n",
       "<style scoped>\n",
       "    .dataframe tbody tr th:only-of-type {\n",
       "        vertical-align: middle;\n",
       "    }\n",
       "\n",
       "    .dataframe tbody tr th {\n",
       "        vertical-align: top;\n",
       "    }\n",
       "\n",
       "    .dataframe thead th {\n",
       "        text-align: right;\n",
       "    }\n",
       "</style>\n",
       "<table border=\"1\" class=\"dataframe\">\n",
       "  <thead>\n",
       "    <tr style=\"text-align: right;\">\n",
       "      <th></th>\n",
       "      <th>Sex_M</th>\n",
       "      <th>ChestPainType_ATA</th>\n",
       "      <th>ChestPainType_NAP</th>\n",
       "      <th>ChestPainType_TA</th>\n",
       "      <th>FastingBS_1</th>\n",
       "      <th>RestingECG_Normal</th>\n",
       "      <th>RestingECG_ST</th>\n",
       "      <th>ExerciseAngina_Y</th>\n",
       "      <th>ST_Slope_Flat</th>\n",
       "      <th>ST_Slope_Up</th>\n",
       "      <th>Age</th>\n",
       "      <th>RestingBP</th>\n",
       "      <th>Cholesterol</th>\n",
       "      <th>MaxHR</th>\n",
       "      <th>Oldpeak</th>\n",
       "    </tr>\n",
       "  </thead>\n",
       "  <tbody>\n",
       "    <tr>\n",
       "      <th>0</th>\n",
       "      <td>1</td>\n",
       "      <td>1</td>\n",
       "      <td>0</td>\n",
       "      <td>0</td>\n",
       "      <td>0</td>\n",
       "      <td>1</td>\n",
       "      <td>0</td>\n",
       "      <td>0</td>\n",
       "      <td>0</td>\n",
       "      <td>1</td>\n",
       "      <td>40</td>\n",
       "      <td>140</td>\n",
       "      <td>289</td>\n",
       "      <td>172</td>\n",
       "      <td>0.0</td>\n",
       "    </tr>\n",
       "    <tr>\n",
       "      <th>1</th>\n",
       "      <td>0</td>\n",
       "      <td>0</td>\n",
       "      <td>1</td>\n",
       "      <td>0</td>\n",
       "      <td>0</td>\n",
       "      <td>1</td>\n",
       "      <td>0</td>\n",
       "      <td>0</td>\n",
       "      <td>1</td>\n",
       "      <td>0</td>\n",
       "      <td>49</td>\n",
       "      <td>160</td>\n",
       "      <td>180</td>\n",
       "      <td>156</td>\n",
       "      <td>1.0</td>\n",
       "    </tr>\n",
       "    <tr>\n",
       "      <th>2</th>\n",
       "      <td>1</td>\n",
       "      <td>1</td>\n",
       "      <td>0</td>\n",
       "      <td>0</td>\n",
       "      <td>0</td>\n",
       "      <td>0</td>\n",
       "      <td>1</td>\n",
       "      <td>0</td>\n",
       "      <td>0</td>\n",
       "      <td>1</td>\n",
       "      <td>37</td>\n",
       "      <td>130</td>\n",
       "      <td>283</td>\n",
       "      <td>98</td>\n",
       "      <td>0.0</td>\n",
       "    </tr>\n",
       "    <tr>\n",
       "      <th>3</th>\n",
       "      <td>0</td>\n",
       "      <td>0</td>\n",
       "      <td>0</td>\n",
       "      <td>0</td>\n",
       "      <td>0</td>\n",
       "      <td>1</td>\n",
       "      <td>0</td>\n",
       "      <td>1</td>\n",
       "      <td>1</td>\n",
       "      <td>0</td>\n",
       "      <td>48</td>\n",
       "      <td>138</td>\n",
       "      <td>214</td>\n",
       "      <td>108</td>\n",
       "      <td>1.5</td>\n",
       "    </tr>\n",
       "    <tr>\n",
       "      <th>4</th>\n",
       "      <td>1</td>\n",
       "      <td>0</td>\n",
       "      <td>1</td>\n",
       "      <td>0</td>\n",
       "      <td>0</td>\n",
       "      <td>1</td>\n",
       "      <td>0</td>\n",
       "      <td>0</td>\n",
       "      <td>0</td>\n",
       "      <td>1</td>\n",
       "      <td>54</td>\n",
       "      <td>150</td>\n",
       "      <td>195</td>\n",
       "      <td>122</td>\n",
       "      <td>0.0</td>\n",
       "    </tr>\n",
       "    <tr>\n",
       "      <th>...</th>\n",
       "      <td>...</td>\n",
       "      <td>...</td>\n",
       "      <td>...</td>\n",
       "      <td>...</td>\n",
       "      <td>...</td>\n",
       "      <td>...</td>\n",
       "      <td>...</td>\n",
       "      <td>...</td>\n",
       "      <td>...</td>\n",
       "      <td>...</td>\n",
       "      <td>...</td>\n",
       "      <td>...</td>\n",
       "      <td>...</td>\n",
       "      <td>...</td>\n",
       "      <td>...</td>\n",
       "    </tr>\n",
       "    <tr>\n",
       "      <th>913</th>\n",
       "      <td>1</td>\n",
       "      <td>0</td>\n",
       "      <td>0</td>\n",
       "      <td>1</td>\n",
       "      <td>0</td>\n",
       "      <td>1</td>\n",
       "      <td>0</td>\n",
       "      <td>0</td>\n",
       "      <td>1</td>\n",
       "      <td>0</td>\n",
       "      <td>45</td>\n",
       "      <td>110</td>\n",
       "      <td>264</td>\n",
       "      <td>132</td>\n",
       "      <td>1.2</td>\n",
       "    </tr>\n",
       "    <tr>\n",
       "      <th>914</th>\n",
       "      <td>1</td>\n",
       "      <td>0</td>\n",
       "      <td>0</td>\n",
       "      <td>0</td>\n",
       "      <td>1</td>\n",
       "      <td>1</td>\n",
       "      <td>0</td>\n",
       "      <td>0</td>\n",
       "      <td>1</td>\n",
       "      <td>0</td>\n",
       "      <td>68</td>\n",
       "      <td>144</td>\n",
       "      <td>193</td>\n",
       "      <td>141</td>\n",
       "      <td>3.4</td>\n",
       "    </tr>\n",
       "    <tr>\n",
       "      <th>915</th>\n",
       "      <td>1</td>\n",
       "      <td>0</td>\n",
       "      <td>0</td>\n",
       "      <td>0</td>\n",
       "      <td>0</td>\n",
       "      <td>1</td>\n",
       "      <td>0</td>\n",
       "      <td>1</td>\n",
       "      <td>1</td>\n",
       "      <td>0</td>\n",
       "      <td>57</td>\n",
       "      <td>130</td>\n",
       "      <td>131</td>\n",
       "      <td>115</td>\n",
       "      <td>1.2</td>\n",
       "    </tr>\n",
       "    <tr>\n",
       "      <th>916</th>\n",
       "      <td>0</td>\n",
       "      <td>1</td>\n",
       "      <td>0</td>\n",
       "      <td>0</td>\n",
       "      <td>0</td>\n",
       "      <td>0</td>\n",
       "      <td>0</td>\n",
       "      <td>0</td>\n",
       "      <td>1</td>\n",
       "      <td>0</td>\n",
       "      <td>57</td>\n",
       "      <td>130</td>\n",
       "      <td>236</td>\n",
       "      <td>174</td>\n",
       "      <td>0.0</td>\n",
       "    </tr>\n",
       "    <tr>\n",
       "      <th>917</th>\n",
       "      <td>1</td>\n",
       "      <td>0</td>\n",
       "      <td>1</td>\n",
       "      <td>0</td>\n",
       "      <td>0</td>\n",
       "      <td>1</td>\n",
       "      <td>0</td>\n",
       "      <td>0</td>\n",
       "      <td>0</td>\n",
       "      <td>1</td>\n",
       "      <td>38</td>\n",
       "      <td>138</td>\n",
       "      <td>175</td>\n",
       "      <td>173</td>\n",
       "      <td>0.0</td>\n",
       "    </tr>\n",
       "  </tbody>\n",
       "</table>\n",
       "<p>918 rows × 15 columns</p>\n",
       "</div>"
      ],
      "text/plain": [
       "     Sex_M  ChestPainType_ATA  ChestPainType_NAP  ChestPainType_TA  \\\n",
       "0        1                  1                  0                 0   \n",
       "1        0                  0                  1                 0   \n",
       "2        1                  1                  0                 0   \n",
       "3        0                  0                  0                 0   \n",
       "4        1                  0                  1                 0   \n",
       "..     ...                ...                ...               ...   \n",
       "913      1                  0                  0                 1   \n",
       "914      1                  0                  0                 0   \n",
       "915      1                  0                  0                 0   \n",
       "916      0                  1                  0                 0   \n",
       "917      1                  0                  1                 0   \n",
       "\n",
       "     FastingBS_1  RestingECG_Normal  RestingECG_ST  ExerciseAngina_Y  \\\n",
       "0              0                  1              0                 0   \n",
       "1              0                  1              0                 0   \n",
       "2              0                  0              1                 0   \n",
       "3              0                  1              0                 1   \n",
       "4              0                  1              0                 0   \n",
       "..           ...                ...            ...               ...   \n",
       "913            0                  1              0                 0   \n",
       "914            1                  1              0                 0   \n",
       "915            0                  1              0                 1   \n",
       "916            0                  0              0                 0   \n",
       "917            0                  1              0                 0   \n",
       "\n",
       "     ST_Slope_Flat  ST_Slope_Up  Age  RestingBP  Cholesterol  MaxHR  Oldpeak  \n",
       "0                0            1   40        140          289    172      0.0  \n",
       "1                1            0   49        160          180    156      1.0  \n",
       "2                0            1   37        130          283     98      0.0  \n",
       "3                1            0   48        138          214    108      1.5  \n",
       "4                0            1   54        150          195    122      0.0  \n",
       "..             ...          ...  ...        ...          ...    ...      ...  \n",
       "913              1            0   45        110          264    132      1.2  \n",
       "914              1            0   68        144          193    141      3.4  \n",
       "915              1            0   57        130          131    115      1.2  \n",
       "916              1            0   57        130          236    174      0.0  \n",
       "917              0            1   38        138          175    173      0.0  \n",
       "\n",
       "[918 rows x 15 columns]"
      ]
     },
     "execution_count": 11,
     "metadata": {},
     "output_type": "execute_result"
    }
   ],
   "source": [
    "# x,y 분리 #\n",
    "y = df[\"HeartDisease\"]\n",
    "y = y.astype('int') # 0,1 이면 문자나 Object로 인식\n",
    "\n",
    "x = df.drop(['HeartDisease'], axis = 1)\n",
    "\n",
    "# Object형 X를 dummy 변수화 #\n",
    "fac_col = x.select_dtypes(\"object\").columns.tolist()\n",
    "x_fac_df = pd.get_dummies(x[fac_col], drop_first = True)\n",
    "x_num_df = x.select_dtypes(exclude='object')\n",
    "x_final = pd.concat([x_fac_df,x_num_df],axis=1)\n",
    "x_final"
   ]
  },
  {
   "cell_type": "markdown",
   "id": "e785bb5a",
   "metadata": {},
   "source": [
    " - drop_first = True를 해야 변수의 수를 줄일수 있음\n",
    " - False로 두면 One-hot encoder와 같음\n",
    " - Labeling은 1,2,3 숫자가 매겨짐 (Ordinal data일때 가능)"
   ]
  },
  {
   "cell_type": "code",
   "execution_count": 12,
   "id": "0bf8bfb9",
   "metadata": {},
   "outputs": [],
   "source": [
    "# Train & Test Data 분리 #\n",
    "x_train, x_test, y_train, y_test  = train_test_split( x_final, y,\n",
    "                                                      stratify = y,\n",
    "                                                      test_size = 0.3,\n",
    "                                                      random_state = 0 )"
   ]
  },
  {
   "cell_type": "code",
   "execution_count": 13,
   "id": "1849cd16",
   "metadata": {},
   "outputs": [
    {
     "name": "stderr",
     "output_type": "stream",
     "text": [
      "C:\\anaconda3\\lib\\site-packages\\sklearn\\linear_model\\_logistic.py:763: ConvergenceWarning: lbfgs failed to converge (status=1):\n",
      "STOP: TOTAL NO. of ITERATIONS REACHED LIMIT.\n",
      "\n",
      "Increase the number of iterations (max_iter) or scale the data as shown in:\n",
      "    https://scikit-learn.org/stable/modules/preprocessing.html\n",
      "Please also refer to the documentation for alternative solver options:\n",
      "    https://scikit-learn.org/stable/modules/linear_model.html#logistic-regression\n",
      "  n_iter_i = _check_optimize_result(\n",
      "C:\\anaconda3\\lib\\site-packages\\sklearn\\linear_model\\_logistic.py:763: ConvergenceWarning: lbfgs failed to converge (status=1):\n",
      "STOP: TOTAL NO. of ITERATIONS REACHED LIMIT.\n",
      "\n",
      "Increase the number of iterations (max_iter) or scale the data as shown in:\n",
      "    https://scikit-learn.org/stable/modules/preprocessing.html\n",
      "Please also refer to the documentation for alternative solver options:\n",
      "    https://scikit-learn.org/stable/modules/linear_model.html#logistic-regression\n",
      "  n_iter_i = _check_optimize_result(\n",
      "C:\\anaconda3\\lib\\site-packages\\sklearn\\linear_model\\_logistic.py:763: ConvergenceWarning: lbfgs failed to converge (status=1):\n",
      "STOP: TOTAL NO. of ITERATIONS REACHED LIMIT.\n",
      "\n",
      "Increase the number of iterations (max_iter) or scale the data as shown in:\n",
      "    https://scikit-learn.org/stable/modules/preprocessing.html\n",
      "Please also refer to the documentation for alternative solver options:\n",
      "    https://scikit-learn.org/stable/modules/linear_model.html#logistic-regression\n",
      "  n_iter_i = _check_optimize_result(\n",
      "C:\\anaconda3\\lib\\site-packages\\sklearn\\linear_model\\_logistic.py:763: ConvergenceWarning: lbfgs failed to converge (status=1):\n",
      "STOP: TOTAL NO. of ITERATIONS REACHED LIMIT.\n",
      "\n",
      "Increase the number of iterations (max_iter) or scale the data as shown in:\n",
      "    https://scikit-learn.org/stable/modules/preprocessing.html\n",
      "Please also refer to the documentation for alternative solver options:\n",
      "    https://scikit-learn.org/stable/modules/linear_model.html#logistic-regression\n",
      "  n_iter_i = _check_optimize_result(\n",
      "C:\\anaconda3\\lib\\site-packages\\sklearn\\linear_model\\_logistic.py:763: ConvergenceWarning: lbfgs failed to converge (status=1):\n",
      "STOP: TOTAL NO. of ITERATIONS REACHED LIMIT.\n",
      "\n",
      "Increase the number of iterations (max_iter) or scale the data as shown in:\n",
      "    https://scikit-learn.org/stable/modules/preprocessing.html\n",
      "Please also refer to the documentation for alternative solver options:\n",
      "    https://scikit-learn.org/stable/modules/linear_model.html#logistic-regression\n",
      "  n_iter_i = _check_optimize_result(\n"
     ]
    },
    {
     "name": "stdout",
     "output_type": "stream",
     "text": [
      "Column 0 : Selected True, Rank : 1.000\n",
      "Column 1 : Selected True, Rank : 1.000\n",
      "Column 2 : Selected True, Rank : 1.000\n",
      "Column 3 : Selected True, Rank : 1.000\n",
      "Column 4 : Selected False, Rank : 2.000\n",
      "Column 5 : Selected False, Rank : 8.000\n",
      "Column 6 : Selected False, Rank : 5.000\n",
      "Column 7 : Selected True, Rank : 1.000\n",
      "Column 8 : Selected False, Rank : 3.000\n",
      "Column 9 : Selected True, Rank : 1.000\n",
      "Column 10 : Selected False, Rank : 6.000\n",
      "Column 11 : Selected False, Rank : 9.000\n",
      "Column 12 : Selected False, Rank : 10.000\n",
      "Column 13 : Selected False, Rank : 7.000\n",
      "Column 14 : Selected False, Rank : 4.000\n"
     ]
    }
   ],
   "source": [
    "# Feature Selection #\n",
    "\n",
    "import time\n",
    "from sklearn.feature_selection import RFE\n",
    "model = LogisticRegression()\n",
    "rfe = RFE(model, n_features_to_select = 6)\n",
    "start_time = time.time()\n",
    "rfe.fit(x_train, y_train)\n",
    "rfe_time = (time.time() - start_time)\n",
    "\n",
    "feature_list = list()\n",
    "for i in range(x_train.shape[1]) :\n",
    "    print('Column %d : Selected %s, Rank : %.3f' %(i, rfe.support_[i], rfe.ranking_[i]))\n",
    "    if rfe.support_[i] == True :\n",
    "        feature_list.append(i)\n",
    "\n",
    "selected_x_train = x_train.iloc[:,feature_list]        "
   ]
  },
  {
   "cell_type": "code",
   "execution_count": 14,
   "id": "29339bdc",
   "metadata": {},
   "outputs": [],
   "source": [
    "# Build ML models # \n",
    "\n",
    "from sklearn.svm import SVC\n",
    "from sklearn.ensemble import AdaBoostClassifier, BaggingClassifier, RandomForestClassifier, VotingClassifier\n",
    "from xgboost import XGBClassifier, plot_importance\n",
    "from sklearn.model_selection import StratifiedKFold\n",
    "from sklearn.metrics import mean_squared_error\n",
    "import time\n",
    "\n",
    "svc_errors = []\n",
    "ada_errors = []\n",
    "bag_errors = []\n",
    "rfc_errors = []\n",
    "vc_errors = []\n",
    "xgb_errors = []\n",
    "skf = StratifiedKFold(n_splits=10)"
   ]
  },
  {
   "cell_type": "code",
   "execution_count": 15,
   "id": "f478120a",
   "metadata": {},
   "outputs": [
    {
     "name": "stderr",
     "output_type": "stream",
     "text": [
      "C:\\anaconda3\\lib\\site-packages\\xgboost\\sklearn.py:1224: UserWarning: The use of label encoder in XGBClassifier is deprecated and will be removed in a future release. To remove this warning, do the following: 1) Pass option use_label_encoder=False when constructing XGBClassifier object; and 2) Encode your labels (y) as integers starting with 0, i.e. 0, 1, 2, ..., [num_class - 1].\n",
      "  warnings.warn(label_encoder_deprecation_msg, UserWarning)\n"
     ]
    },
    {
     "name": "stdout",
     "output_type": "stream",
     "text": [
      "[08:57:04] WARNING: C:/Users/Administrator/workspace/xgboost-win64_release_1.5.1/src/learner.cc:1115: Starting in XGBoost 1.3.0, the default evaluation metric used with the objective 'binary:logistic' was changed from 'error' to 'logloss'. Explicitly set eval_metric if you'd like to restore the old behavior.\n"
     ]
    },
    {
     "name": "stderr",
     "output_type": "stream",
     "text": [
      "C:\\anaconda3\\lib\\site-packages\\xgboost\\sklearn.py:1224: UserWarning: The use of label encoder in XGBClassifier is deprecated and will be removed in a future release. To remove this warning, do the following: 1) Pass option use_label_encoder=False when constructing XGBClassifier object; and 2) Encode your labels (y) as integers starting with 0, i.e. 0, 1, 2, ..., [num_class - 1].\n",
      "  warnings.warn(label_encoder_deprecation_msg, UserWarning)\n"
     ]
    },
    {
     "name": "stdout",
     "output_type": "stream",
     "text": [
      "[08:57:05] WARNING: C:/Users/Administrator/workspace/xgboost-win64_release_1.5.1/src/learner.cc:1115: Starting in XGBoost 1.3.0, the default evaluation metric used with the objective 'binary:logistic' was changed from 'error' to 'logloss'. Explicitly set eval_metric if you'd like to restore the old behavior.\n"
     ]
    },
    {
     "name": "stderr",
     "output_type": "stream",
     "text": [
      "C:\\anaconda3\\lib\\site-packages\\xgboost\\sklearn.py:1224: UserWarning: The use of label encoder in XGBClassifier is deprecated and will be removed in a future release. To remove this warning, do the following: 1) Pass option use_label_encoder=False when constructing XGBClassifier object; and 2) Encode your labels (y) as integers starting with 0, i.e. 0, 1, 2, ..., [num_class - 1].\n",
      "  warnings.warn(label_encoder_deprecation_msg, UserWarning)\n"
     ]
    },
    {
     "name": "stdout",
     "output_type": "stream",
     "text": [
      "[08:57:06] WARNING: C:/Users/Administrator/workspace/xgboost-win64_release_1.5.1/src/learner.cc:1115: Starting in XGBoost 1.3.0, the default evaluation metric used with the objective 'binary:logistic' was changed from 'error' to 'logloss'. Explicitly set eval_metric if you'd like to restore the old behavior.\n"
     ]
    },
    {
     "name": "stderr",
     "output_type": "stream",
     "text": [
      "C:\\anaconda3\\lib\\site-packages\\xgboost\\sklearn.py:1224: UserWarning: The use of label encoder in XGBClassifier is deprecated and will be removed in a future release. To remove this warning, do the following: 1) Pass option use_label_encoder=False when constructing XGBClassifier object; and 2) Encode your labels (y) as integers starting with 0, i.e. 0, 1, 2, ..., [num_class - 1].\n",
      "  warnings.warn(label_encoder_deprecation_msg, UserWarning)\n"
     ]
    },
    {
     "name": "stdout",
     "output_type": "stream",
     "text": [
      "[08:57:07] WARNING: C:/Users/Administrator/workspace/xgboost-win64_release_1.5.1/src/learner.cc:1115: Starting in XGBoost 1.3.0, the default evaluation metric used with the objective 'binary:logistic' was changed from 'error' to 'logloss'. Explicitly set eval_metric if you'd like to restore the old behavior.\n"
     ]
    },
    {
     "name": "stderr",
     "output_type": "stream",
     "text": [
      "C:\\anaconda3\\lib\\site-packages\\xgboost\\sklearn.py:1224: UserWarning: The use of label encoder in XGBClassifier is deprecated and will be removed in a future release. To remove this warning, do the following: 1) Pass option use_label_encoder=False when constructing XGBClassifier object; and 2) Encode your labels (y) as integers starting with 0, i.e. 0, 1, 2, ..., [num_class - 1].\n",
      "  warnings.warn(label_encoder_deprecation_msg, UserWarning)\n"
     ]
    },
    {
     "name": "stdout",
     "output_type": "stream",
     "text": [
      "[08:57:08] WARNING: C:/Users/Administrator/workspace/xgboost-win64_release_1.5.1/src/learner.cc:1115: Starting in XGBoost 1.3.0, the default evaluation metric used with the objective 'binary:logistic' was changed from 'error' to 'logloss'. Explicitly set eval_metric if you'd like to restore the old behavior.\n"
     ]
    },
    {
     "name": "stderr",
     "output_type": "stream",
     "text": [
      "C:\\anaconda3\\lib\\site-packages\\xgboost\\sklearn.py:1224: UserWarning: The use of label encoder in XGBClassifier is deprecated and will be removed in a future release. To remove this warning, do the following: 1) Pass option use_label_encoder=False when constructing XGBClassifier object; and 2) Encode your labels (y) as integers starting with 0, i.e. 0, 1, 2, ..., [num_class - 1].\n",
      "  warnings.warn(label_encoder_deprecation_msg, UserWarning)\n"
     ]
    },
    {
     "name": "stdout",
     "output_type": "stream",
     "text": [
      "[08:57:09] WARNING: C:/Users/Administrator/workspace/xgboost-win64_release_1.5.1/src/learner.cc:1115: Starting in XGBoost 1.3.0, the default evaluation metric used with the objective 'binary:logistic' was changed from 'error' to 'logloss'. Explicitly set eval_metric if you'd like to restore the old behavior.\n"
     ]
    },
    {
     "name": "stderr",
     "output_type": "stream",
     "text": [
      "C:\\anaconda3\\lib\\site-packages\\xgboost\\sklearn.py:1224: UserWarning: The use of label encoder in XGBClassifier is deprecated and will be removed in a future release. To remove this warning, do the following: 1) Pass option use_label_encoder=False when constructing XGBClassifier object; and 2) Encode your labels (y) as integers starting with 0, i.e. 0, 1, 2, ..., [num_class - 1].\n",
      "  warnings.warn(label_encoder_deprecation_msg, UserWarning)\n"
     ]
    },
    {
     "name": "stdout",
     "output_type": "stream",
     "text": [
      "[08:57:10] WARNING: C:/Users/Administrator/workspace/xgboost-win64_release_1.5.1/src/learner.cc:1115: Starting in XGBoost 1.3.0, the default evaluation metric used with the objective 'binary:logistic' was changed from 'error' to 'logloss'. Explicitly set eval_metric if you'd like to restore the old behavior.\n"
     ]
    },
    {
     "name": "stderr",
     "output_type": "stream",
     "text": [
      "C:\\anaconda3\\lib\\site-packages\\xgboost\\sklearn.py:1224: UserWarning: The use of label encoder in XGBClassifier is deprecated and will be removed in a future release. To remove this warning, do the following: 1) Pass option use_label_encoder=False when constructing XGBClassifier object; and 2) Encode your labels (y) as integers starting with 0, i.e. 0, 1, 2, ..., [num_class - 1].\n",
      "  warnings.warn(label_encoder_deprecation_msg, UserWarning)\n"
     ]
    },
    {
     "name": "stdout",
     "output_type": "stream",
     "text": [
      "[08:57:11] WARNING: C:/Users/Administrator/workspace/xgboost-win64_release_1.5.1/src/learner.cc:1115: Starting in XGBoost 1.3.0, the default evaluation metric used with the objective 'binary:logistic' was changed from 'error' to 'logloss'. Explicitly set eval_metric if you'd like to restore the old behavior.\n"
     ]
    },
    {
     "name": "stderr",
     "output_type": "stream",
     "text": [
      "C:\\anaconda3\\lib\\site-packages\\xgboost\\sklearn.py:1224: UserWarning: The use of label encoder in XGBClassifier is deprecated and will be removed in a future release. To remove this warning, do the following: 1) Pass option use_label_encoder=False when constructing XGBClassifier object; and 2) Encode your labels (y) as integers starting with 0, i.e. 0, 1, 2, ..., [num_class - 1].\n",
      "  warnings.warn(label_encoder_deprecation_msg, UserWarning)\n"
     ]
    },
    {
     "name": "stdout",
     "output_type": "stream",
     "text": [
      "[08:57:12] WARNING: C:/Users/Administrator/workspace/xgboost-win64_release_1.5.1/src/learner.cc:1115: Starting in XGBoost 1.3.0, the default evaluation metric used with the objective 'binary:logistic' was changed from 'error' to 'logloss'. Explicitly set eval_metric if you'd like to restore the old behavior.\n"
     ]
    },
    {
     "name": "stderr",
     "output_type": "stream",
     "text": [
      "C:\\anaconda3\\lib\\site-packages\\xgboost\\sklearn.py:1224: UserWarning: The use of label encoder in XGBClassifier is deprecated and will be removed in a future release. To remove this warning, do the following: 1) Pass option use_label_encoder=False when constructing XGBClassifier object; and 2) Encode your labels (y) as integers starting with 0, i.e. 0, 1, 2, ..., [num_class - 1].\n",
      "  warnings.warn(label_encoder_deprecation_msg, UserWarning)\n"
     ]
    },
    {
     "name": "stdout",
     "output_type": "stream",
     "text": [
      "[08:57:14] WARNING: C:/Users/Administrator/workspace/xgboost-win64_release_1.5.1/src/learner.cc:1115: Starting in XGBoost 1.3.0, the default evaluation metric used with the objective 'binary:logistic' was changed from 'error' to 'logloss'. Explicitly set eval_metric if you'd like to restore the old behavior.\n"
     ]
    },
    {
     "name": "stderr",
     "output_type": "stream",
     "text": [
      "C:\\anaconda3\\lib\\site-packages\\xgboost\\sklearn.py:1224: UserWarning: The use of label encoder in XGBClassifier is deprecated and will be removed in a future release. To remove this warning, do the following: 1) Pass option use_label_encoder=False when constructing XGBClassifier object; and 2) Encode your labels (y) as integers starting with 0, i.e. 0, 1, 2, ..., [num_class - 1].\n",
      "  warnings.warn(label_encoder_deprecation_msg, UserWarning)\n"
     ]
    },
    {
     "name": "stdout",
     "output_type": "stream",
     "text": [
      "[08:57:15] WARNING: C:/Users/Administrator/workspace/xgboost-win64_release_1.5.1/src/learner.cc:1115: Starting in XGBoost 1.3.0, the default evaluation metric used with the objective 'binary:logistic' was changed from 'error' to 'logloss'. Explicitly set eval_metric if you'd like to restore the old behavior.\n"
     ]
    },
    {
     "name": "stderr",
     "output_type": "stream",
     "text": [
      "C:\\anaconda3\\lib\\site-packages\\xgboost\\sklearn.py:1224: UserWarning: The use of label encoder in XGBClassifier is deprecated and will be removed in a future release. To remove this warning, do the following: 1) Pass option use_label_encoder=False when constructing XGBClassifier object; and 2) Encode your labels (y) as integers starting with 0, i.e. 0, 1, 2, ..., [num_class - 1].\n",
      "  warnings.warn(label_encoder_deprecation_msg, UserWarning)\n"
     ]
    },
    {
     "name": "stdout",
     "output_type": "stream",
     "text": [
      "[08:57:16] WARNING: C:/Users/Administrator/workspace/xgboost-win64_release_1.5.1/src/learner.cc:1115: Starting in XGBoost 1.3.0, the default evaluation metric used with the objective 'binary:logistic' was changed from 'error' to 'logloss'. Explicitly set eval_metric if you'd like to restore the old behavior.\n"
     ]
    },
    {
     "name": "stderr",
     "output_type": "stream",
     "text": [
      "C:\\anaconda3\\lib\\site-packages\\xgboost\\sklearn.py:1224: UserWarning: The use of label encoder in XGBClassifier is deprecated and will be removed in a future release. To remove this warning, do the following: 1) Pass option use_label_encoder=False when constructing XGBClassifier object; and 2) Encode your labels (y) as integers starting with 0, i.e. 0, 1, 2, ..., [num_class - 1].\n",
      "  warnings.warn(label_encoder_deprecation_msg, UserWarning)\n"
     ]
    },
    {
     "name": "stdout",
     "output_type": "stream",
     "text": [
      "[08:57:17] WARNING: C:/Users/Administrator/workspace/xgboost-win64_release_1.5.1/src/learner.cc:1115: Starting in XGBoost 1.3.0, the default evaluation metric used with the objective 'binary:logistic' was changed from 'error' to 'logloss'. Explicitly set eval_metric if you'd like to restore the old behavior.\n"
     ]
    },
    {
     "name": "stderr",
     "output_type": "stream",
     "text": [
      "C:\\anaconda3\\lib\\site-packages\\xgboost\\sklearn.py:1224: UserWarning: The use of label encoder in XGBClassifier is deprecated and will be removed in a future release. To remove this warning, do the following: 1) Pass option use_label_encoder=False when constructing XGBClassifier object; and 2) Encode your labels (y) as integers starting with 0, i.e. 0, 1, 2, ..., [num_class - 1].\n",
      "  warnings.warn(label_encoder_deprecation_msg, UserWarning)\n"
     ]
    },
    {
     "name": "stdout",
     "output_type": "stream",
     "text": [
      "[08:57:18] WARNING: C:/Users/Administrator/workspace/xgboost-win64_release_1.5.1/src/learner.cc:1115: Starting in XGBoost 1.3.0, the default evaluation metric used with the objective 'binary:logistic' was changed from 'error' to 'logloss'. Explicitly set eval_metric if you'd like to restore the old behavior.\n"
     ]
    },
    {
     "name": "stderr",
     "output_type": "stream",
     "text": [
      "C:\\anaconda3\\lib\\site-packages\\xgboost\\sklearn.py:1224: UserWarning: The use of label encoder in XGBClassifier is deprecated and will be removed in a future release. To remove this warning, do the following: 1) Pass option use_label_encoder=False when constructing XGBClassifier object; and 2) Encode your labels (y) as integers starting with 0, i.e. 0, 1, 2, ..., [num_class - 1].\n",
      "  warnings.warn(label_encoder_deprecation_msg, UserWarning)\n"
     ]
    },
    {
     "name": "stdout",
     "output_type": "stream",
     "text": [
      "[08:57:19] WARNING: C:/Users/Administrator/workspace/xgboost-win64_release_1.5.1/src/learner.cc:1115: Starting in XGBoost 1.3.0, the default evaluation metric used with the objective 'binary:logistic' was changed from 'error' to 'logloss'. Explicitly set eval_metric if you'd like to restore the old behavior.\n"
     ]
    },
    {
     "name": "stderr",
     "output_type": "stream",
     "text": [
      "C:\\anaconda3\\lib\\site-packages\\xgboost\\sklearn.py:1224: UserWarning: The use of label encoder in XGBClassifier is deprecated and will be removed in a future release. To remove this warning, do the following: 1) Pass option use_label_encoder=False when constructing XGBClassifier object; and 2) Encode your labels (y) as integers starting with 0, i.e. 0, 1, 2, ..., [num_class - 1].\n",
      "  warnings.warn(label_encoder_deprecation_msg, UserWarning)\n"
     ]
    },
    {
     "name": "stdout",
     "output_type": "stream",
     "text": [
      "[08:57:20] WARNING: C:/Users/Administrator/workspace/xgboost-win64_release_1.5.1/src/learner.cc:1115: Starting in XGBoost 1.3.0, the default evaluation metric used with the objective 'binary:logistic' was changed from 'error' to 'logloss'. Explicitly set eval_metric if you'd like to restore the old behavior.\n"
     ]
    },
    {
     "name": "stderr",
     "output_type": "stream",
     "text": [
      "C:\\anaconda3\\lib\\site-packages\\xgboost\\sklearn.py:1224: UserWarning: The use of label encoder in XGBClassifier is deprecated and will be removed in a future release. To remove this warning, do the following: 1) Pass option use_label_encoder=False when constructing XGBClassifier object; and 2) Encode your labels (y) as integers starting with 0, i.e. 0, 1, 2, ..., [num_class - 1].\n",
      "  warnings.warn(label_encoder_deprecation_msg, UserWarning)\n"
     ]
    },
    {
     "name": "stdout",
     "output_type": "stream",
     "text": [
      "[08:57:21] WARNING: C:/Users/Administrator/workspace/xgboost-win64_release_1.5.1/src/learner.cc:1115: Starting in XGBoost 1.3.0, the default evaluation metric used with the objective 'binary:logistic' was changed from 'error' to 'logloss'. Explicitly set eval_metric if you'd like to restore the old behavior.\n"
     ]
    },
    {
     "name": "stderr",
     "output_type": "stream",
     "text": [
      "C:\\anaconda3\\lib\\site-packages\\xgboost\\sklearn.py:1224: UserWarning: The use of label encoder in XGBClassifier is deprecated and will be removed in a future release. To remove this warning, do the following: 1) Pass option use_label_encoder=False when constructing XGBClassifier object; and 2) Encode your labels (y) as integers starting with 0, i.e. 0, 1, 2, ..., [num_class - 1].\n",
      "  warnings.warn(label_encoder_deprecation_msg, UserWarning)\n"
     ]
    },
    {
     "name": "stdout",
     "output_type": "stream",
     "text": [
      "[08:57:22] WARNING: C:/Users/Administrator/workspace/xgboost-win64_release_1.5.1/src/learner.cc:1115: Starting in XGBoost 1.3.0, the default evaluation metric used with the objective 'binary:logistic' was changed from 'error' to 'logloss'. Explicitly set eval_metric if you'd like to restore the old behavior.\n"
     ]
    },
    {
     "name": "stderr",
     "output_type": "stream",
     "text": [
      "C:\\anaconda3\\lib\\site-packages\\xgboost\\sklearn.py:1224: UserWarning: The use of label encoder in XGBClassifier is deprecated and will be removed in a future release. To remove this warning, do the following: 1) Pass option use_label_encoder=False when constructing XGBClassifier object; and 2) Encode your labels (y) as integers starting with 0, i.e. 0, 1, 2, ..., [num_class - 1].\n",
      "  warnings.warn(label_encoder_deprecation_msg, UserWarning)\n"
     ]
    },
    {
     "name": "stdout",
     "output_type": "stream",
     "text": [
      "[08:57:23] WARNING: C:/Users/Administrator/workspace/xgboost-win64_release_1.5.1/src/learner.cc:1115: Starting in XGBoost 1.3.0, the default evaluation metric used with the objective 'binary:logistic' was changed from 'error' to 'logloss'. Explicitly set eval_metric if you'd like to restore the old behavior.\n"
     ]
    },
    {
     "name": "stderr",
     "output_type": "stream",
     "text": [
      "C:\\anaconda3\\lib\\site-packages\\xgboost\\sklearn.py:1224: UserWarning: The use of label encoder in XGBClassifier is deprecated and will be removed in a future release. To remove this warning, do the following: 1) Pass option use_label_encoder=False when constructing XGBClassifier object; and 2) Encode your labels (y) as integers starting with 0, i.e. 0, 1, 2, ..., [num_class - 1].\n",
      "  warnings.warn(label_encoder_deprecation_msg, UserWarning)\n"
     ]
    },
    {
     "name": "stdout",
     "output_type": "stream",
     "text": [
      "[08:57:24] WARNING: C:/Users/Administrator/workspace/xgboost-win64_release_1.5.1/src/learner.cc:1115: Starting in XGBoost 1.3.0, the default evaluation metric used with the objective 'binary:logistic' was changed from 'error' to 'logloss'. Explicitly set eval_metric if you'd like to restore the old behavior.\n"
     ]
    }
   ],
   "source": [
    "# Stratified-split & Time & error rate #\n",
    "\n",
    "for train_idx, valid_idx in skf.split(x_train, y_train):\n",
    "    tra, val = x_train.iloc[train_idx], x_train.iloc[valid_idx]\n",
    "    target_tra, target_val = list(y_train.iloc[train_idx]), list(y_train.iloc[valid_idx])\n",
    "\n",
    "    #SVC\n",
    "    svc = SVC(probability=True)\n",
    "    start_time = time.time()\n",
    "    svc.fit(tra, target_tra)\n",
    "    svc_time = (time.time() - start_time)\n",
    "    pred = svc.predict(val)\n",
    "    error = mean_squared_error(target_val, pred)\n",
    "    svc_errors.append(error)\n",
    "    \n",
    "    #AdaBoostClassifier\n",
    "    ada = AdaBoostClassifier()\n",
    "    start_time = time.time()\n",
    "    ada.fit(tra, target_tra)\n",
    "    ada_time = (time.time() - start_time)\n",
    "    pred = ada.predict(val)\n",
    "    error = mean_squared_error(target_val, pred)\n",
    "    ada_errors.append(error)\n",
    "    \n",
    "    #BaggingClassifier\n",
    "    bag = BaggingClassifier()\n",
    "    start_time = time.time()\n",
    "    bag.fit(tra, target_tra)\n",
    "    bag_time = (time.time() - start_time)\n",
    "    pred = bag.predict(val)\n",
    "    error = mean_squared_error(target_val, pred)\n",
    "    bag_errors.append(error)\n",
    "    \n",
    "    #RandomForestClassifier\n",
    "    rfc = RandomForestClassifier()\n",
    "    start_time = time.time()\n",
    "    rfc.fit(tra, target_tra)\n",
    "    rfc_time = (time.time() - start_time)\n",
    "    pred = rfc.predict(val)\n",
    "    error = mean_squared_error(target_val, pred)\n",
    "    rfc_errors.append(error)\n",
    "    \n",
    "    #XGBoostClassifier\n",
    "    xgb = XGBClassifier()\n",
    "    start_time = time.time()\n",
    "    xgb.fit(tra, target_tra)\n",
    "    xgb_time = (time.time() - start_time)\n",
    "    pred = xgb.predict(val)\n",
    "    error = mean_squared_error(target_val, pred)\n",
    "    xgb_errors.append(error)\n",
    "    \n",
    "    #VotingClassifier\n",
    "    vc = VotingClassifier(estimators=[('svc',svc), ('ada',ada), ('bag',bag), ('rfc',rfc), ('xgb',xgb)], voting = 'soft')\n",
    "    start_time = time.time()\n",
    "    vc.fit(tra, target_tra)\n",
    "    vc_time = (time.time() - start_time)\n",
    "    pred = vc.predict(val)\n",
    "    error = mean_squared_error(target_val, pred)\n",
    "    vc_errors.append(error)"
   ]
  },
  {
   "cell_type": "code",
   "execution_count": 16,
   "id": "14fdbd5d",
   "metadata": {},
   "outputs": [
    {
     "name": "stdout",
     "output_type": "stream",
     "text": [
      "AdaBoost FINAL MSE: 0.150\n",
      "Ada time : 0.122 \n",
      "\n",
      "SVC FINAL MSE: 0.279\n",
      "svc time : 0.166 \n",
      "\n",
      "RANDOM FOREST FINAL MSE: 0.140\n",
      "rfc time : 0.228 \n",
      "\n",
      "Bagging FINAL MSE: 0.168\n",
      "bag time : 0.038 \n",
      "\n",
      "XGBoost FINAL MSE: 0.148\n",
      "xgb time : 0.233 \n",
      "\n",
      "Voting FINAL MSE: 0.137\n",
      "vc time : 0.739 \n",
      "\n"
     ]
    }
   ],
   "source": [
    "ada_final_error = sum(ada_errors) / len(ada_errors)\n",
    "print('AdaBoost FINAL MSE: %.3f' % (ada_final_error))\n",
    "print('Ada time : %.3f \\n' %(ada_time))\n",
    "\n",
    "svc_final_error = sum(svc_errors) / len(svc_errors)\n",
    "print('SVC FINAL MSE: %.3f' % (svc_final_error))\n",
    "print('svc time : %.3f \\n' %(svc_time))\n",
    "\n",
    "rfc_final_error = sum(rfc_errors) / len(rfc_errors)\n",
    "print('RANDOM FOREST FINAL MSE: %.3f' % (rfc_final_error))\n",
    "print('rfc time : %.3f \\n' %(rfc_time))\n",
    "\n",
    "bag_final_error = sum(bag_errors) / len(bag_errors)\n",
    "print('Bagging FINAL MSE: %.3f' % (bag_final_error))\n",
    "print('bag time : %.3f \\n' %(bag_time))\n",
    "\n",
    "xgb_final_error = sum(xgb_errors) / len(xgb_errors)\n",
    "print('XGBoost FINAL MSE: %.3f' % (xgb_final_error))\n",
    "print('xgb time : %.3f \\n' %(xgb_time))\n",
    "\n",
    "vc_final_error = sum(vc_errors) / len(vc_errors)\n",
    "print('Voting FINAL MSE: %.3f' % (vc_final_error))\n",
    "print('vc time : %.3f \\n' %(vc_time))"
   ]
  },
  {
   "cell_type": "code",
   "execution_count": 17,
   "id": "9f8aac64",
   "metadata": {},
   "outputs": [
    {
     "data": {
      "image/png": "[encoded data removed]",
      "text/plain": [
       "<Figure size 432x288 with 1 Axes>"
      ]
     },
     "metadata": {
      "needs_background": "light"
     },
     "output_type": "display_data"
    }
   ],
   "source": [
    "# Feature Importance #\n",
    "plot_importance(xgb)\n",
    "plt.show()"
   ]
  },
  {
   "cell_type": "code",
   "execution_count": 18,
   "id": "98776934",
   "metadata": {},
   "outputs": [],
   "source": [
    "from sklearn.model_selection import GridSearchCV, KFold"
   ]
  },
  {
   "cell_type": "code",
   "execution_count": 19,
   "id": "15c5bd45",
   "metadata": {},
   "outputs": [],
   "source": [
    "# Grid search #\n",
    "rf_param_grid = {\n",
    "    'n_estimators': [100, 150, 200, 250],\n",
    "    'max_depth': [None, 6, 9, 12],\n",
    "    'min_samples_split': [0.01, 0.05, 0.1],\n",
    "    'max_features': ['auto', 'sqrt'],\n",
    "}"
   ]
  },
  {
   "cell_type": "code",
   "execution_count": 20,
   "id": "fd876cce",
   "metadata": {},
   "outputs": [],
   "source": [
    "rf = RandomForestClassifier()\n",
    "kf = KFold(random_state = 0,\n",
    "          n_splits = 10,\n",
    "          shuffle = True)"
   ]
  },
  {
   "cell_type": "code",
   "execution_count": 21,
   "id": "9479978c",
   "metadata": {},
   "outputs": [],
   "source": [
    "rf_grid_search = GridSearchCV(estimator = rf,\n",
    "                          param_grid = rf_param_grid,\n",
    "                          cv = kf,\n",
    "                          n_jobs = -1,\n",
    "                          verbose = 2)"
   ]
  },
  {
   "cell_type": "code",
   "execution_count": 22,
   "id": "6086817c",
   "metadata": {},
   "outputs": [
    {
     "name": "stdout",
     "output_type": "stream",
     "text": [
      "Fitting 10 folds for each of 96 candidates, totalling 960 fits\n"
     ]
    },
    {
     "data": {
      "text/plain": [
       "{'max_depth': 12,\n",
       " 'max_features': 'sqrt',\n",
       " 'min_samples_split': 0.01,\n",
       " 'n_estimators': 200}"
      ]
     },
     "execution_count": 22,
     "metadata": {},
     "output_type": "execute_result"
    }
   ],
   "source": [
    "rf_grid_search.fit(x_train, y_train)\n",
    "rf_grid_search.best_params_"
   ]
  },
  {
   "cell_type": "code",
   "execution_count": 23,
   "id": "47888fe5",
   "metadata": {},
   "outputs": [
    {
     "name": "stdout",
     "output_type": "stream",
     "text": [
      "예측 정확도: 0.8804\n"
     ]
    }
   ],
   "source": [
    "# Forecast with best params #\n",
    "rf_clf1 = RandomForestClassifier(max_depth = 9,\n",
    "                                max_features = 'auto',\n",
    "                                min_samples_split = 0.01,\n",
    "                                n_estimators = 100,\n",
    "                                n_jobs = -1)\n",
    "rf_clf1.fit(x_train, y_train)\n",
    "pred = rf_clf1.predict(x_test)\n",
    "print('예측 정확도: {:.4f}'.format(accuracy_score(y_test,pred)))"
   ]
  },
  {
   "cell_type": "code",
   "execution_count": null,
   "id": "65cebb6d",
   "metadata": {},
   "outputs": [],
   "source": []
  }
 ],
 "metadata": {
  "kernelspec": {
   "display_name": "Python 3",
   "language": "python",
   "name": "python3"
  },
  "language_info": {
   "codemirror_mode": {
    "name": "ipython",
    "version": 3
   },
   "file_extension": ".py",
   "mimetype": "text/x-python",
   "name": "python",
   "nbconvert_exporter": "python",
   "pygments_lexer": "ipython3",
   "version": "3.8.8"
  }
 },
 "nbformat": 4,
 "nbformat_minor": 5
}
